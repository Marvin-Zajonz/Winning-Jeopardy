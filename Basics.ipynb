{
 "cells": [
  {
   "cell_type": "markdown",
   "metadata": {
    "collapsed": true
   },
   "source": [
    "# Winning Jeopardy\n",
    "Jeopardy is a popular TV show in the United States where contestants have to answer questions in order to win money. It has been succesfull for a long time and running for a few decades. <br><br>\n",
    "Let's pretend we want to compete on Jeopardy and are looking for any edge that can help us to win. Hence, we will be working with a dataset that contains Jeopardy questions from the past and could help us to figure out patterns about the questions. The dataset is called jeopardy.csv and contains 20,000 rows. It can be downloaded [here](https://www.reddit.com/r/datasets/comments/1uyd0t/200000_jeopardy_questions_in_a_json_file/)"
   ]
  },
  {
   "cell_type": "markdown",
   "metadata": {},
   "source": [
    "## Exploring the Dataset"
   ]
  },
  {
   "cell_type": "code",
   "execution_count": 2,
   "metadata": {
    "collapsed": false
   },
   "outputs": [
    {
     "data": {
      "text/html": [
       "<div>\n",
       "<style scoped>\n",
       "    .dataframe tbody tr th:only-of-type {\n",
       "        vertical-align: middle;\n",
       "    }\n",
       "\n",
       "    .dataframe tbody tr th {\n",
       "        vertical-align: top;\n",
       "    }\n",
       "\n",
       "    .dataframe thead th {\n",
       "        text-align: right;\n",
       "    }\n",
       "</style>\n",
       "<table border=\"1\" class=\"dataframe\">\n",
       "  <thead>\n",
       "    <tr style=\"text-align: right;\">\n",
       "      <th></th>\n",
       "      <th>Show Number</th>\n",
       "      <th>Air Date</th>\n",
       "      <th>Round</th>\n",
       "      <th>Category</th>\n",
       "      <th>Value</th>\n",
       "      <th>Question</th>\n",
       "      <th>Answer</th>\n",
       "    </tr>\n",
       "  </thead>\n",
       "  <tbody>\n",
       "    <tr>\n",
       "      <th>0</th>\n",
       "      <td>4680</td>\n",
       "      <td>2004-12-31</td>\n",
       "      <td>Jeopardy!</td>\n",
       "      <td>HISTORY</td>\n",
       "      <td>$200</td>\n",
       "      <td>For the last 8 years of his life, Galileo was ...</td>\n",
       "      <td>Copernicus</td>\n",
       "    </tr>\n",
       "    <tr>\n",
       "      <th>1</th>\n",
       "      <td>4680</td>\n",
       "      <td>2004-12-31</td>\n",
       "      <td>Jeopardy!</td>\n",
       "      <td>ESPN's TOP 10 ALL-TIME ATHLETES</td>\n",
       "      <td>$200</td>\n",
       "      <td>No. 2: 1912 Olympian; football star at Carlisl...</td>\n",
       "      <td>Jim Thorpe</td>\n",
       "    </tr>\n",
       "    <tr>\n",
       "      <th>2</th>\n",
       "      <td>4680</td>\n",
       "      <td>2004-12-31</td>\n",
       "      <td>Jeopardy!</td>\n",
       "      <td>EVERYBODY TALKS ABOUT IT...</td>\n",
       "      <td>$200</td>\n",
       "      <td>The city of Yuma in this state has a record av...</td>\n",
       "      <td>Arizona</td>\n",
       "    </tr>\n",
       "    <tr>\n",
       "      <th>3</th>\n",
       "      <td>4680</td>\n",
       "      <td>2004-12-31</td>\n",
       "      <td>Jeopardy!</td>\n",
       "      <td>THE COMPANY LINE</td>\n",
       "      <td>$200</td>\n",
       "      <td>In 1963, live on \"The Art Linkletter Show\", th...</td>\n",
       "      <td>McDonald's</td>\n",
       "    </tr>\n",
       "    <tr>\n",
       "      <th>4</th>\n",
       "      <td>4680</td>\n",
       "      <td>2004-12-31</td>\n",
       "      <td>Jeopardy!</td>\n",
       "      <td>EPITAPHS &amp; TRIBUTES</td>\n",
       "      <td>$200</td>\n",
       "      <td>Signer of the Dec. of Indep., framer of the Co...</td>\n",
       "      <td>John Adams</td>\n",
       "    </tr>\n",
       "  </tbody>\n",
       "</table>\n",
       "</div>"
      ],
      "text/plain": [
       "   Show Number    Air Date      Round                         Category  Value  \\\n",
       "0         4680  2004-12-31  Jeopardy!                          HISTORY   $200   \n",
       "1         4680  2004-12-31  Jeopardy!  ESPN's TOP 10 ALL-TIME ATHLETES   $200   \n",
       "2         4680  2004-12-31  Jeopardy!      EVERYBODY TALKS ABOUT IT...   $200   \n",
       "3         4680  2004-12-31  Jeopardy!                 THE COMPANY LINE   $200   \n",
       "4         4680  2004-12-31  Jeopardy!              EPITAPHS & TRIBUTES   $200   \n",
       "\n",
       "                                            Question      Answer  \n",
       "0  For the last 8 years of his life, Galileo was ...  Copernicus  \n",
       "1  No. 2: 1912 Olympian; football star at Carlisl...  Jim Thorpe  \n",
       "2  The city of Yuma in this state has a record av...     Arizona  \n",
       "3  In 1963, live on \"The Art Linkletter Show\", th...  McDonald's  \n",
       "4  Signer of the Dec. of Indep., framer of the Co...  John Adams  "
      ]
     },
     "execution_count": 2,
     "metadata": {},
     "output_type": "execute_result"
    }
   ],
   "source": [
    "import pandas as pd\n",
    "jeopardy = pd.read_csv('jeopardy.csv')\n",
    "jeopardy.head()"
   ]
  },
  {
   "cell_type": "code",
   "execution_count": 3,
   "metadata": {
    "collapsed": false
   },
   "outputs": [
    {
     "data": {
      "text/html": [
       "<div>\n",
       "<style scoped>\n",
       "    .dataframe tbody tr th:only-of-type {\n",
       "        vertical-align: middle;\n",
       "    }\n",
       "\n",
       "    .dataframe tbody tr th {\n",
       "        vertical-align: top;\n",
       "    }\n",
       "\n",
       "    .dataframe thead th {\n",
       "        text-align: right;\n",
       "    }\n",
       "</style>\n",
       "<table border=\"1\" class=\"dataframe\">\n",
       "  <thead>\n",
       "    <tr style=\"text-align: right;\">\n",
       "      <th></th>\n",
       "      <th>Show Number</th>\n",
       "      <th>Air Date</th>\n",
       "      <th>Round</th>\n",
       "      <th>Category</th>\n",
       "      <th>Value</th>\n",
       "      <th>Question</th>\n",
       "      <th>Answer</th>\n",
       "    </tr>\n",
       "  </thead>\n",
       "  <tbody>\n",
       "    <tr>\n",
       "      <th>19994</th>\n",
       "      <td>3582</td>\n",
       "      <td>2000-03-14</td>\n",
       "      <td>Jeopardy!</td>\n",
       "      <td>U.S. GEOGRAPHY</td>\n",
       "      <td>$200</td>\n",
       "      <td>Of 8, 12 or 18, the number of U.S. states that...</td>\n",
       "      <td>18</td>\n",
       "    </tr>\n",
       "    <tr>\n",
       "      <th>19995</th>\n",
       "      <td>3582</td>\n",
       "      <td>2000-03-14</td>\n",
       "      <td>Jeopardy!</td>\n",
       "      <td>POP MUSIC PAIRINGS</td>\n",
       "      <td>$200</td>\n",
       "      <td>...&amp; the New Power Generation</td>\n",
       "      <td>Prince</td>\n",
       "    </tr>\n",
       "    <tr>\n",
       "      <th>19996</th>\n",
       "      <td>3582</td>\n",
       "      <td>2000-03-14</td>\n",
       "      <td>Jeopardy!</td>\n",
       "      <td>HISTORIC PEOPLE</td>\n",
       "      <td>$200</td>\n",
       "      <td>In 1589 he was appointed professor of mathemat...</td>\n",
       "      <td>Galileo</td>\n",
       "    </tr>\n",
       "    <tr>\n",
       "      <th>19997</th>\n",
       "      <td>3582</td>\n",
       "      <td>2000-03-14</td>\n",
       "      <td>Jeopardy!</td>\n",
       "      <td>1998 QUOTATIONS</td>\n",
       "      <td>$200</td>\n",
       "      <td>Before the grand jury she said, \"I'm really so...</td>\n",
       "      <td>Monica Lewinsky</td>\n",
       "    </tr>\n",
       "    <tr>\n",
       "      <th>19998</th>\n",
       "      <td>3582</td>\n",
       "      <td>2000-03-14</td>\n",
       "      <td>Jeopardy!</td>\n",
       "      <td>LLAMA-RAMA</td>\n",
       "      <td>$200</td>\n",
       "      <td>Llamas are the heftiest South American members...</td>\n",
       "      <td>Camels</td>\n",
       "    </tr>\n",
       "  </tbody>\n",
       "</table>\n",
       "</div>"
      ],
      "text/plain": [
       "       Show Number    Air Date      Round            Category  Value  \\\n",
       "19994         3582  2000-03-14  Jeopardy!      U.S. GEOGRAPHY   $200   \n",
       "19995         3582  2000-03-14  Jeopardy!  POP MUSIC PAIRINGS   $200   \n",
       "19996         3582  2000-03-14  Jeopardy!     HISTORIC PEOPLE   $200   \n",
       "19997         3582  2000-03-14  Jeopardy!     1998 QUOTATIONS   $200   \n",
       "19998         3582  2000-03-14  Jeopardy!          LLAMA-RAMA   $200   \n",
       "\n",
       "                                                Question           Answer  \n",
       "19994  Of 8, 12 or 18, the number of U.S. states that...               18  \n",
       "19995                      ...& the New Power Generation           Prince  \n",
       "19996  In 1589 he was appointed professor of mathemat...          Galileo  \n",
       "19997  Before the grand jury she said, \"I'm really so...  Monica Lewinsky  \n",
       "19998  Llamas are the heftiest South American members...           Camels  "
      ]
     },
     "execution_count": 3,
     "metadata": {},
     "output_type": "execute_result"
    }
   ],
   "source": [
    "jeopardy.tail()"
   ]
  },
  {
   "cell_type": "code",
   "execution_count": 4,
   "metadata": {
    "collapsed": false
   },
   "outputs": [
    {
     "data": {
      "text/plain": [
       "Index(['Show Number', ' Air Date', ' Round', ' Category', ' Value',\n",
       "       ' Question', ' Answer'],\n",
       "      dtype='object')"
      ]
     },
     "execution_count": 4,
     "metadata": {},
     "output_type": "execute_result"
    }
   ],
   "source": [
    "jeopardy.columns"
   ]
  },
  {
   "cell_type": "markdown",
   "metadata": {},
   "source": [
    "Some of the columns have spaces in front that have to be removed."
   ]
  },
  {
   "cell_type": "code",
   "execution_count": 5,
   "metadata": {
    "collapsed": true
   },
   "outputs": [],
   "source": [
    "jeopardy.columns = jeopardy.columns.str.replace(' ','')"
   ]
  },
  {
   "cell_type": "code",
   "execution_count": 6,
   "metadata": {
    "collapsed": false
   },
   "outputs": [
    {
     "data": {
      "text/plain": [
       "Index(['ShowNumber', 'AirDate', 'Round', 'Category', 'Value', 'Question',\n",
       "       'Answer'],\n",
       "      dtype='object')"
      ]
     },
     "execution_count": 6,
     "metadata": {},
     "output_type": "execute_result"
    }
   ],
   "source": [
    "jeopardy.columns"
   ]
  },
  {
   "cell_type": "code",
   "execution_count": 7,
   "metadata": {
    "collapsed": false
   },
   "outputs": [
    {
     "data": {
      "text/plain": [
       "count     19999\n",
       "unique       76\n",
       "top        $400\n",
       "freq       3892\n",
       "Name: Value, dtype: object"
      ]
     },
     "execution_count": 7,
     "metadata": {},
     "output_type": "execute_result"
    }
   ],
   "source": [
    "jeopardy['Value'].describe()"
   ]
  },
  {
   "cell_type": "code",
   "execution_count": 8,
   "metadata": {
    "collapsed": false
   },
   "outputs": [
    {
     "name": "stdout",
     "output_type": "stream",
     "text": [
      "<class 'pandas.core.frame.DataFrame'>\n",
      "RangeIndex: 19999 entries, 0 to 19998\n",
      "Data columns (total 7 columns):\n",
      "ShowNumber    19999 non-null int64\n",
      "AirDate       19999 non-null object\n",
      "Round         19999 non-null object\n",
      "Category      19999 non-null object\n",
      "Value         19999 non-null object\n",
      "Question      19999 non-null object\n",
      "Answer        19999 non-null object\n",
      "dtypes: int64(1), object(6)\n",
      "memory usage: 1.1+ MB\n"
     ]
    }
   ],
   "source": [
    "jeopardy.info()"
   ]
  },
  {
   "cell_type": "markdown",
   "metadata": {},
   "source": [
    "## Normalizing text"
   ]
  },
  {
   "cell_type": "markdown",
   "metadata": {},
   "source": [
    "To be able to analyze the question and answer columns we ave to normalize the text. That means, converting the text to lowercase and removing all punctuation."
   ]
  },
  {
   "cell_type": "code",
   "execution_count": 9,
   "metadata": {
    "collapsed": false
   },
   "outputs": [],
   "source": [
    "# Function to normalize a string\n",
    "import re\n",
    "def normalize(string):\n",
    "    string = string.lower()\n",
    "    string = re.sub(\"[^A-Za-z0-9\\s]\", \"\", string)\n",
    "    return string\n",
    "\n",
    "# Normalizing the question column\n",
    "jeopardy['Question'] = jeopardy['Question'].apply(normalize)\n",
    "\n",
    "# Normalizing the answer column\n",
    "jeopardy['Answer'] = jeopardy['Answer'].apply(normalize)"
   ]
  },
  {
   "cell_type": "code",
   "execution_count": 10,
   "metadata": {
    "collapsed": false
   },
   "outputs": [
    {
     "data": {
      "text/html": [
       "<div>\n",
       "<style scoped>\n",
       "    .dataframe tbody tr th:only-of-type {\n",
       "        vertical-align: middle;\n",
       "    }\n",
       "\n",
       "    .dataframe tbody tr th {\n",
       "        vertical-align: top;\n",
       "    }\n",
       "\n",
       "    .dataframe thead th {\n",
       "        text-align: right;\n",
       "    }\n",
       "</style>\n",
       "<table border=\"1\" class=\"dataframe\">\n",
       "  <thead>\n",
       "    <tr style=\"text-align: right;\">\n",
       "      <th></th>\n",
       "      <th>ShowNumber</th>\n",
       "      <th>AirDate</th>\n",
       "      <th>Round</th>\n",
       "      <th>Category</th>\n",
       "      <th>Value</th>\n",
       "      <th>Question</th>\n",
       "      <th>Answer</th>\n",
       "    </tr>\n",
       "  </thead>\n",
       "  <tbody>\n",
       "    <tr>\n",
       "      <th>0</th>\n",
       "      <td>4680</td>\n",
       "      <td>2004-12-31</td>\n",
       "      <td>Jeopardy!</td>\n",
       "      <td>HISTORY</td>\n",
       "      <td>$200</td>\n",
       "      <td>for the last 8 years of his life galileo was u...</td>\n",
       "      <td>copernicus</td>\n",
       "    </tr>\n",
       "    <tr>\n",
       "      <th>1</th>\n",
       "      <td>4680</td>\n",
       "      <td>2004-12-31</td>\n",
       "      <td>Jeopardy!</td>\n",
       "      <td>ESPN's TOP 10 ALL-TIME ATHLETES</td>\n",
       "      <td>$200</td>\n",
       "      <td>no 2 1912 olympian football star at carlisle i...</td>\n",
       "      <td>jim thorpe</td>\n",
       "    </tr>\n",
       "    <tr>\n",
       "      <th>2</th>\n",
       "      <td>4680</td>\n",
       "      <td>2004-12-31</td>\n",
       "      <td>Jeopardy!</td>\n",
       "      <td>EVERYBODY TALKS ABOUT IT...</td>\n",
       "      <td>$200</td>\n",
       "      <td>the city of yuma in this state has a record av...</td>\n",
       "      <td>arizona</td>\n",
       "    </tr>\n",
       "    <tr>\n",
       "      <th>3</th>\n",
       "      <td>4680</td>\n",
       "      <td>2004-12-31</td>\n",
       "      <td>Jeopardy!</td>\n",
       "      <td>THE COMPANY LINE</td>\n",
       "      <td>$200</td>\n",
       "      <td>in 1963 live on the art linkletter show this c...</td>\n",
       "      <td>mcdonalds</td>\n",
       "    </tr>\n",
       "    <tr>\n",
       "      <th>4</th>\n",
       "      <td>4680</td>\n",
       "      <td>2004-12-31</td>\n",
       "      <td>Jeopardy!</td>\n",
       "      <td>EPITAPHS &amp; TRIBUTES</td>\n",
       "      <td>$200</td>\n",
       "      <td>signer of the dec of indep framer of the const...</td>\n",
       "      <td>john adams</td>\n",
       "    </tr>\n",
       "  </tbody>\n",
       "</table>\n",
       "</div>"
      ],
      "text/plain": [
       "   ShowNumber     AirDate      Round                         Category Value  \\\n",
       "0        4680  2004-12-31  Jeopardy!                          HISTORY  $200   \n",
       "1        4680  2004-12-31  Jeopardy!  ESPN's TOP 10 ALL-TIME ATHLETES  $200   \n",
       "2        4680  2004-12-31  Jeopardy!      EVERYBODY TALKS ABOUT IT...  $200   \n",
       "3        4680  2004-12-31  Jeopardy!                 THE COMPANY LINE  $200   \n",
       "4        4680  2004-12-31  Jeopardy!              EPITAPHS & TRIBUTES  $200   \n",
       "\n",
       "                                            Question      Answer  \n",
       "0  for the last 8 years of his life galileo was u...  copernicus  \n",
       "1  no 2 1912 olympian football star at carlisle i...  jim thorpe  \n",
       "2  the city of yuma in this state has a record av...     arizona  \n",
       "3  in 1963 live on the art linkletter show this c...   mcdonalds  \n",
       "4  signer of the dec of indep framer of the const...  john adams  "
      ]
     },
     "execution_count": 10,
     "metadata": {},
     "output_type": "execute_result"
    }
   ],
   "source": [
    "jeopardy.head()"
   ]
  },
  {
   "cell_type": "markdown",
   "metadata": {},
   "source": [
    "We can see that the question and answer column have been normalized."
   ]
  },
  {
   "cell_type": "markdown",
   "metadata": {},
   "source": [
    "Next, we want to normalize the value and air date column to make future analysis easier. The value column should not include the dollar sign and the air date should be a datetime and not a string."
   ]
  },
  {
   "cell_type": "code",
   "execution_count": 11,
   "metadata": {
    "collapsed": true
   },
   "outputs": [],
   "source": [
    "def dollar_norm(string):\n",
    "    string = re.sub(\"[^A-Za-z0-9\\s]\", \"\", string)\n",
    "    try:\n",
    "        string = int(string)\n",
    "    except Exception:\n",
    "        string = 0\n",
    "    return string\n",
    "jeopardy['Value'] = jeopardy['Value'].apply(dollar_norm)"
   ]
  },
  {
   "cell_type": "code",
   "execution_count": 12,
   "metadata": {
    "collapsed": false
   },
   "outputs": [],
   "source": [
    "# Using pd.to_datetime to convert the air date column\n",
    "jeopardy['Air Date'] = pd.to_datetime(jeopardy['AirDate'])"
   ]
  },
  {
   "cell_type": "code",
   "execution_count": 13,
   "metadata": {
    "collapsed": false
   },
   "outputs": [
    {
     "data": {
      "text/html": [
       "<div>\n",
       "<style scoped>\n",
       "    .dataframe tbody tr th:only-of-type {\n",
       "        vertical-align: middle;\n",
       "    }\n",
       "\n",
       "    .dataframe tbody tr th {\n",
       "        vertical-align: top;\n",
       "    }\n",
       "\n",
       "    .dataframe thead th {\n",
       "        text-align: right;\n",
       "    }\n",
       "</style>\n",
       "<table border=\"1\" class=\"dataframe\">\n",
       "  <thead>\n",
       "    <tr style=\"text-align: right;\">\n",
       "      <th></th>\n",
       "      <th>ShowNumber</th>\n",
       "      <th>AirDate</th>\n",
       "      <th>Round</th>\n",
       "      <th>Category</th>\n",
       "      <th>Value</th>\n",
       "      <th>Question</th>\n",
       "      <th>Answer</th>\n",
       "      <th>Air Date</th>\n",
       "    </tr>\n",
       "  </thead>\n",
       "  <tbody>\n",
       "    <tr>\n",
       "      <th>0</th>\n",
       "      <td>4680</td>\n",
       "      <td>2004-12-31</td>\n",
       "      <td>Jeopardy!</td>\n",
       "      <td>HISTORY</td>\n",
       "      <td>200</td>\n",
       "      <td>for the last 8 years of his life galileo was u...</td>\n",
       "      <td>copernicus</td>\n",
       "      <td>2004-12-31</td>\n",
       "    </tr>\n",
       "    <tr>\n",
       "      <th>1</th>\n",
       "      <td>4680</td>\n",
       "      <td>2004-12-31</td>\n",
       "      <td>Jeopardy!</td>\n",
       "      <td>ESPN's TOP 10 ALL-TIME ATHLETES</td>\n",
       "      <td>200</td>\n",
       "      <td>no 2 1912 olympian football star at carlisle i...</td>\n",
       "      <td>jim thorpe</td>\n",
       "      <td>2004-12-31</td>\n",
       "    </tr>\n",
       "    <tr>\n",
       "      <th>2</th>\n",
       "      <td>4680</td>\n",
       "      <td>2004-12-31</td>\n",
       "      <td>Jeopardy!</td>\n",
       "      <td>EVERYBODY TALKS ABOUT IT...</td>\n",
       "      <td>200</td>\n",
       "      <td>the city of yuma in this state has a record av...</td>\n",
       "      <td>arizona</td>\n",
       "      <td>2004-12-31</td>\n",
       "    </tr>\n",
       "    <tr>\n",
       "      <th>3</th>\n",
       "      <td>4680</td>\n",
       "      <td>2004-12-31</td>\n",
       "      <td>Jeopardy!</td>\n",
       "      <td>THE COMPANY LINE</td>\n",
       "      <td>200</td>\n",
       "      <td>in 1963 live on the art linkletter show this c...</td>\n",
       "      <td>mcdonalds</td>\n",
       "      <td>2004-12-31</td>\n",
       "    </tr>\n",
       "    <tr>\n",
       "      <th>4</th>\n",
       "      <td>4680</td>\n",
       "      <td>2004-12-31</td>\n",
       "      <td>Jeopardy!</td>\n",
       "      <td>EPITAPHS &amp; TRIBUTES</td>\n",
       "      <td>200</td>\n",
       "      <td>signer of the dec of indep framer of the const...</td>\n",
       "      <td>john adams</td>\n",
       "      <td>2004-12-31</td>\n",
       "    </tr>\n",
       "  </tbody>\n",
       "</table>\n",
       "</div>"
      ],
      "text/plain": [
       "   ShowNumber     AirDate      Round                         Category  Value  \\\n",
       "0        4680  2004-12-31  Jeopardy!                          HISTORY    200   \n",
       "1        4680  2004-12-31  Jeopardy!  ESPN's TOP 10 ALL-TIME ATHLETES    200   \n",
       "2        4680  2004-12-31  Jeopardy!      EVERYBODY TALKS ABOUT IT...    200   \n",
       "3        4680  2004-12-31  Jeopardy!                 THE COMPANY LINE    200   \n",
       "4        4680  2004-12-31  Jeopardy!              EPITAPHS & TRIBUTES    200   \n",
       "\n",
       "                                            Question      Answer   Air Date  \n",
       "0  for the last 8 years of his life galileo was u...  copernicus 2004-12-31  \n",
       "1  no 2 1912 olympian football star at carlisle i...  jim thorpe 2004-12-31  \n",
       "2  the city of yuma in this state has a record av...     arizona 2004-12-31  \n",
       "3  in 1963 live on the art linkletter show this c...   mcdonalds 2004-12-31  \n",
       "4  signer of the dec of indep framer of the const...  john adams 2004-12-31  "
      ]
     },
     "execution_count": 13,
     "metadata": {},
     "output_type": "execute_result"
    }
   ],
   "source": [
    "jeopardy.head()"
   ]
  },
  {
   "cell_type": "code",
   "execution_count": 14,
   "metadata": {
    "collapsed": false
   },
   "outputs": [
    {
     "name": "stdout",
     "output_type": "stream",
     "text": [
      "<class 'pandas.core.frame.DataFrame'>\n",
      "RangeIndex: 19999 entries, 0 to 19998\n",
      "Data columns (total 8 columns):\n",
      "ShowNumber    19999 non-null int64\n",
      "AirDate       19999 non-null object\n",
      "Round         19999 non-null object\n",
      "Category      19999 non-null object\n",
      "Value         19999 non-null int64\n",
      "Question      19999 non-null object\n",
      "Answer        19999 non-null object\n",
      "Air Date      19999 non-null datetime64[ns]\n",
      "dtypes: datetime64[ns](1), int64(2), object(5)\n",
      "memory usage: 1.2+ MB\n"
     ]
    }
   ],
   "source": [
    "jeopardy.info()"
   ]
  },
  {
   "cell_type": "markdown",
   "metadata": {},
   "source": [
    "We can see that the dollar signs have been removed and that the air date is now a datetime type."
   ]
  },
  {
   "cell_type": "markdown",
   "metadata": {},
   "source": [
    "## Answers in questions"
   ]
  },
  {
   "cell_type": "markdown",
   "metadata": {},
   "source": [
    "Next, we want to start analyzing past questions. <br>First, we want to know how often answers are deducible from the question. This means we have to check how many times words from the answer occur in words from the question. <br> Second, we want to analyze how often new questions are repeats from older question . This can be done by seeing how often complex words (>6 characters) reoccur."
   ]
  },
  {
   "cell_type": "code",
   "execution_count": 15,
   "metadata": {
    "collapsed": true
   },
   "outputs": [],
   "source": [
    "def matches_count(row):\n",
    "    split_answer = row['Answer'].split(' ')    \n",
    "    split_question = row['Question'].split(' ')\n",
    "    match_count = 0\n",
    "    if 'the' in split_answer:\n",
    "        split_answer.remove('the') # 'the' often does not have a meaningful use in answer\n",
    "    if len(split_answer) == 0: \n",
    "        return 0 # returning 0 so we do not get an error later\n",
    "    for word in split_answer:\n",
    "        if word in split_question:\n",
    "            match_count+=1\n",
    "    return match_count/len(split_answer)"
   ]
  },
  {
   "cell_type": "code",
   "execution_count": 16,
   "metadata": {
    "collapsed": false
   },
   "outputs": [],
   "source": [
    "# Counting how many times terms in the answer column occur in the question column\n",
    "jeopardy['answer_in_questions'] = jeopardy.apply(matches_count, axis=1)"
   ]
  },
  {
   "cell_type": "code",
   "execution_count": 17,
   "metadata": {
    "collapsed": false
   },
   "outputs": [
    {
     "data": {
      "text/html": [
       "<div>\n",
       "<style scoped>\n",
       "    .dataframe tbody tr th:only-of-type {\n",
       "        vertical-align: middle;\n",
       "    }\n",
       "\n",
       "    .dataframe tbody tr th {\n",
       "        vertical-align: top;\n",
       "    }\n",
       "\n",
       "    .dataframe thead th {\n",
       "        text-align: right;\n",
       "    }\n",
       "</style>\n",
       "<table border=\"1\" class=\"dataframe\">\n",
       "  <thead>\n",
       "    <tr style=\"text-align: right;\">\n",
       "      <th></th>\n",
       "      <th>ShowNumber</th>\n",
       "      <th>AirDate</th>\n",
       "      <th>Round</th>\n",
       "      <th>Category</th>\n",
       "      <th>Value</th>\n",
       "      <th>Question</th>\n",
       "      <th>Answer</th>\n",
       "      <th>Air Date</th>\n",
       "      <th>answer_in_questions</th>\n",
       "    </tr>\n",
       "  </thead>\n",
       "  <tbody>\n",
       "    <tr>\n",
       "      <th>0</th>\n",
       "      <td>4680</td>\n",
       "      <td>2004-12-31</td>\n",
       "      <td>Jeopardy!</td>\n",
       "      <td>HISTORY</td>\n",
       "      <td>200</td>\n",
       "      <td>for the last 8 years of his life galileo was u...</td>\n",
       "      <td>copernicus</td>\n",
       "      <td>2004-12-31</td>\n",
       "      <td>0.000000</td>\n",
       "    </tr>\n",
       "    <tr>\n",
       "      <th>1</th>\n",
       "      <td>4680</td>\n",
       "      <td>2004-12-31</td>\n",
       "      <td>Jeopardy!</td>\n",
       "      <td>ESPN's TOP 10 ALL-TIME ATHLETES</td>\n",
       "      <td>200</td>\n",
       "      <td>no 2 1912 olympian football star at carlisle i...</td>\n",
       "      <td>jim thorpe</td>\n",
       "      <td>2004-12-31</td>\n",
       "      <td>0.000000</td>\n",
       "    </tr>\n",
       "    <tr>\n",
       "      <th>2</th>\n",
       "      <td>4680</td>\n",
       "      <td>2004-12-31</td>\n",
       "      <td>Jeopardy!</td>\n",
       "      <td>EVERYBODY TALKS ABOUT IT...</td>\n",
       "      <td>200</td>\n",
       "      <td>the city of yuma in this state has a record av...</td>\n",
       "      <td>arizona</td>\n",
       "      <td>2004-12-31</td>\n",
       "      <td>0.000000</td>\n",
       "    </tr>\n",
       "    <tr>\n",
       "      <th>3</th>\n",
       "      <td>4680</td>\n",
       "      <td>2004-12-31</td>\n",
       "      <td>Jeopardy!</td>\n",
       "      <td>THE COMPANY LINE</td>\n",
       "      <td>200</td>\n",
       "      <td>in 1963 live on the art linkletter show this c...</td>\n",
       "      <td>mcdonalds</td>\n",
       "      <td>2004-12-31</td>\n",
       "      <td>0.000000</td>\n",
       "    </tr>\n",
       "    <tr>\n",
       "      <th>4</th>\n",
       "      <td>4680</td>\n",
       "      <td>2004-12-31</td>\n",
       "      <td>Jeopardy!</td>\n",
       "      <td>EPITAPHS &amp; TRIBUTES</td>\n",
       "      <td>200</td>\n",
       "      <td>signer of the dec of indep framer of the const...</td>\n",
       "      <td>john adams</td>\n",
       "      <td>2004-12-31</td>\n",
       "      <td>0.000000</td>\n",
       "    </tr>\n",
       "    <tr>\n",
       "      <th>5</th>\n",
       "      <td>4680</td>\n",
       "      <td>2004-12-31</td>\n",
       "      <td>Jeopardy!</td>\n",
       "      <td>3-LETTER WORDS</td>\n",
       "      <td>200</td>\n",
       "      <td>in the title of an aesop fable this insect sha...</td>\n",
       "      <td>the ant</td>\n",
       "      <td>2004-12-31</td>\n",
       "      <td>0.000000</td>\n",
       "    </tr>\n",
       "    <tr>\n",
       "      <th>6</th>\n",
       "      <td>4680</td>\n",
       "      <td>2004-12-31</td>\n",
       "      <td>Jeopardy!</td>\n",
       "      <td>HISTORY</td>\n",
       "      <td>400</td>\n",
       "      <td>built in 312 bc to link rome  the south of ita...</td>\n",
       "      <td>the appian way</td>\n",
       "      <td>2004-12-31</td>\n",
       "      <td>0.000000</td>\n",
       "    </tr>\n",
       "    <tr>\n",
       "      <th>7</th>\n",
       "      <td>4680</td>\n",
       "      <td>2004-12-31</td>\n",
       "      <td>Jeopardy!</td>\n",
       "      <td>ESPN's TOP 10 ALL-TIME ATHLETES</td>\n",
       "      <td>400</td>\n",
       "      <td>no 8 30 steals for the birmingham barons 2306 ...</td>\n",
       "      <td>michael jordan</td>\n",
       "      <td>2004-12-31</td>\n",
       "      <td>0.000000</td>\n",
       "    </tr>\n",
       "    <tr>\n",
       "      <th>8</th>\n",
       "      <td>4680</td>\n",
       "      <td>2004-12-31</td>\n",
       "      <td>Jeopardy!</td>\n",
       "      <td>EVERYBODY TALKS ABOUT IT...</td>\n",
       "      <td>400</td>\n",
       "      <td>in the winter of 197172 a record 1122 inches o...</td>\n",
       "      <td>washington</td>\n",
       "      <td>2004-12-31</td>\n",
       "      <td>0.000000</td>\n",
       "    </tr>\n",
       "    <tr>\n",
       "      <th>9</th>\n",
       "      <td>4680</td>\n",
       "      <td>2004-12-31</td>\n",
       "      <td>Jeopardy!</td>\n",
       "      <td>THE COMPANY LINE</td>\n",
       "      <td>400</td>\n",
       "      <td>this housewares store was named for the packag...</td>\n",
       "      <td>crate  barrel</td>\n",
       "      <td>2004-12-31</td>\n",
       "      <td>0.333333</td>\n",
       "    </tr>\n",
       "  </tbody>\n",
       "</table>\n",
       "</div>"
      ],
      "text/plain": [
       "   ShowNumber     AirDate      Round                         Category  Value  \\\n",
       "0        4680  2004-12-31  Jeopardy!                          HISTORY    200   \n",
       "1        4680  2004-12-31  Jeopardy!  ESPN's TOP 10 ALL-TIME ATHLETES    200   \n",
       "2        4680  2004-12-31  Jeopardy!      EVERYBODY TALKS ABOUT IT...    200   \n",
       "3        4680  2004-12-31  Jeopardy!                 THE COMPANY LINE    200   \n",
       "4        4680  2004-12-31  Jeopardy!              EPITAPHS & TRIBUTES    200   \n",
       "5        4680  2004-12-31  Jeopardy!                   3-LETTER WORDS    200   \n",
       "6        4680  2004-12-31  Jeopardy!                          HISTORY    400   \n",
       "7        4680  2004-12-31  Jeopardy!  ESPN's TOP 10 ALL-TIME ATHLETES    400   \n",
       "8        4680  2004-12-31  Jeopardy!      EVERYBODY TALKS ABOUT IT...    400   \n",
       "9        4680  2004-12-31  Jeopardy!                 THE COMPANY LINE    400   \n",
       "\n",
       "                                            Question          Answer  \\\n",
       "0  for the last 8 years of his life galileo was u...      copernicus   \n",
       "1  no 2 1912 olympian football star at carlisle i...      jim thorpe   \n",
       "2  the city of yuma in this state has a record av...         arizona   \n",
       "3  in 1963 live on the art linkletter show this c...       mcdonalds   \n",
       "4  signer of the dec of indep framer of the const...      john adams   \n",
       "5  in the title of an aesop fable this insect sha...         the ant   \n",
       "6  built in 312 bc to link rome  the south of ita...  the appian way   \n",
       "7  no 8 30 steals for the birmingham barons 2306 ...  michael jordan   \n",
       "8  in the winter of 197172 a record 1122 inches o...      washington   \n",
       "9  this housewares store was named for the packag...   crate  barrel   \n",
       "\n",
       "    Air Date  answer_in_questions  \n",
       "0 2004-12-31             0.000000  \n",
       "1 2004-12-31             0.000000  \n",
       "2 2004-12-31             0.000000  \n",
       "3 2004-12-31             0.000000  \n",
       "4 2004-12-31             0.000000  \n",
       "5 2004-12-31             0.000000  \n",
       "6 2004-12-31             0.000000  \n",
       "7 2004-12-31             0.000000  \n",
       "8 2004-12-31             0.000000  \n",
       "9 2004-12-31             0.333333  "
      ]
     },
     "execution_count": 17,
     "metadata": {},
     "output_type": "execute_result"
    }
   ],
   "source": [
    "jeopardy.head(10)"
   ]
  },
  {
   "cell_type": "code",
   "execution_count": 18,
   "metadata": {
    "collapsed": false
   },
   "outputs": [
    {
     "data": {
      "text/plain": [
       "0.06049325706933587"
      ]
     },
     "execution_count": 18,
     "metadata": {},
     "output_type": "execute_result"
    }
   ],
   "source": [
    "# Calculating the mean of the new column\n",
    "mean_a_in_q = jeopardy['answer_in_questions'].mean()\n",
    "mean_a_in_q"
   ]
  },
  {
   "cell_type": "code",
   "execution_count": 19,
   "metadata": {
    "collapsed": false
   },
   "outputs": [
    {
     "data": {
      "text/html": [
       "<div>\n",
       "<style scoped>\n",
       "    .dataframe tbody tr th:only-of-type {\n",
       "        vertical-align: middle;\n",
       "    }\n",
       "\n",
       "    .dataframe tbody tr th {\n",
       "        vertical-align: top;\n",
       "    }\n",
       "\n",
       "    .dataframe thead th {\n",
       "        text-align: right;\n",
       "    }\n",
       "</style>\n",
       "<table border=\"1\" class=\"dataframe\">\n",
       "  <thead>\n",
       "    <tr style=\"text-align: right;\">\n",
       "      <th></th>\n",
       "      <th>ShowNumber</th>\n",
       "      <th>AirDate</th>\n",
       "      <th>Round</th>\n",
       "      <th>Category</th>\n",
       "      <th>Value</th>\n",
       "      <th>Question</th>\n",
       "      <th>Answer</th>\n",
       "      <th>Air Date</th>\n",
       "      <th>answer_in_questions</th>\n",
       "    </tr>\n",
       "  </thead>\n",
       "  <tbody>\n",
       "    <tr>\n",
       "      <th>18566</th>\n",
       "      <td>4974</td>\n",
       "      <td>2006-04-06</td>\n",
       "      <td>Jeopardy!</td>\n",
       "      <td>WHICH TV SHOW CAME FIRST?</td>\n",
       "      <td>400</td>\n",
       "      <td>the drew carey show the bob newhart show the b...</td>\n",
       "      <td>the bob newhart show</td>\n",
       "      <td>2006-04-06</td>\n",
       "      <td>1.0</td>\n",
       "    </tr>\n",
       "    <tr>\n",
       "      <th>7591</th>\n",
       "      <td>4808</td>\n",
       "      <td>2005-06-29</td>\n",
       "      <td>Jeopardy!</td>\n",
       "      <td>NOT A POPE</td>\n",
       "      <td>200</td>\n",
       "      <td>urban vii julius ii irving iii</td>\n",
       "      <td>irving iii</td>\n",
       "      <td>2005-06-29</td>\n",
       "      <td>1.0</td>\n",
       "    </tr>\n",
       "    <tr>\n",
       "      <th>18074</th>\n",
       "      <td>3227</td>\n",
       "      <td>1998-09-22</td>\n",
       "      <td>Double Jeopardy!</td>\n",
       "      <td>PUT 'EM IN ORDER</td>\n",
       "      <td>800</td>\n",
       "      <td>ramses ii nebuchadnezzar king solomon</td>\n",
       "      <td>ramses ii king solomon nebuchadnezzar</td>\n",
       "      <td>1998-09-22</td>\n",
       "      <td>1.0</td>\n",
       "    </tr>\n",
       "    <tr>\n",
       "      <th>11508</th>\n",
       "      <td>4461</td>\n",
       "      <td>2004-01-19</td>\n",
       "      <td>Jeopardy!</td>\n",
       "      <td>NOT A NATIONAL CAPITAL</td>\n",
       "      <td>800</td>\n",
       "      <td>katmandu kabul karachi</td>\n",
       "      <td>karachi</td>\n",
       "      <td>2004-01-19</td>\n",
       "      <td>1.0</td>\n",
       "    </tr>\n",
       "    <tr>\n",
       "      <th>12492</th>\n",
       "      <td>4586</td>\n",
       "      <td>2004-07-12</td>\n",
       "      <td>Jeopardy!</td>\n",
       "      <td>BETTER ASK FOR DIRECTIONS</td>\n",
       "      <td>200</td>\n",
       "      <td>of north south east or west the direction to t...</td>\n",
       "      <td>north</td>\n",
       "      <td>2004-07-12</td>\n",
       "      <td>1.0</td>\n",
       "    </tr>\n",
       "    <tr>\n",
       "      <th>15396</th>\n",
       "      <td>4239</td>\n",
       "      <td>2003-01-23</td>\n",
       "      <td>Jeopardy!</td>\n",
       "      <td>STUPID ANSWERS</td>\n",
       "      <td>200</td>\n",
       "      <td>florence nightingale was born in this italian ...</td>\n",
       "      <td>florence</td>\n",
       "      <td>2003-01-23</td>\n",
       "      <td>1.0</td>\n",
       "    </tr>\n",
       "    <tr>\n",
       "      <th>12032</th>\n",
       "      <td>4693</td>\n",
       "      <td>2005-01-19</td>\n",
       "      <td>Jeopardy!</td>\n",
       "      <td>CHERCHEZ LA FEMME</td>\n",
       "      <td>1000</td>\n",
       "      <td>pd james pg wodehouse pj orourke</td>\n",
       "      <td>pd james</td>\n",
       "      <td>2005-01-19</td>\n",
       "      <td>1.0</td>\n",
       "    </tr>\n",
       "    <tr>\n",
       "      <th>18213</th>\n",
       "      <td>2853</td>\n",
       "      <td>1997-01-15</td>\n",
       "      <td>Jeopardy!</td>\n",
       "      <td>SILLY SONGS</td>\n",
       "      <td>200</td>\n",
       "      <td>of de do do do de da da da goo goo  nee nee na...</td>\n",
       "      <td>goo goo</td>\n",
       "      <td>1997-01-15</td>\n",
       "      <td>1.0</td>\n",
       "    </tr>\n",
       "    <tr>\n",
       "      <th>290</th>\n",
       "      <td>4931</td>\n",
       "      <td>2006-02-06</td>\n",
       "      <td>Double Jeopardy!</td>\n",
       "      <td>NOT A CURRENT NATIONAL CAPITAL</td>\n",
       "      <td>2000</td>\n",
       "      <td>belize city guatemala city panama city</td>\n",
       "      <td>belize city</td>\n",
       "      <td>2006-02-06</td>\n",
       "      <td>1.0</td>\n",
       "    </tr>\n",
       "    <tr>\n",
       "      <th>284</th>\n",
       "      <td>4931</td>\n",
       "      <td>2006-02-06</td>\n",
       "      <td>Double Jeopardy!</td>\n",
       "      <td>NOT A CURRENT NATIONAL CAPITAL</td>\n",
       "      <td>1600</td>\n",
       "      <td>bucharest bonn bern</td>\n",
       "      <td>bonn</td>\n",
       "      <td>2006-02-06</td>\n",
       "      <td>1.0</td>\n",
       "    </tr>\n",
       "  </tbody>\n",
       "</table>\n",
       "</div>"
      ],
      "text/plain": [
       "       ShowNumber     AirDate             Round  \\\n",
       "18566        4974  2006-04-06         Jeopardy!   \n",
       "7591         4808  2005-06-29         Jeopardy!   \n",
       "18074        3227  1998-09-22  Double Jeopardy!   \n",
       "11508        4461  2004-01-19         Jeopardy!   \n",
       "12492        4586  2004-07-12         Jeopardy!   \n",
       "15396        4239  2003-01-23         Jeopardy!   \n",
       "12032        4693  2005-01-19         Jeopardy!   \n",
       "18213        2853  1997-01-15         Jeopardy!   \n",
       "290          4931  2006-02-06  Double Jeopardy!   \n",
       "284          4931  2006-02-06  Double Jeopardy!   \n",
       "\n",
       "                             Category  Value  \\\n",
       "18566       WHICH TV SHOW CAME FIRST?    400   \n",
       "7591                       NOT A POPE    200   \n",
       "18074                PUT 'EM IN ORDER    800   \n",
       "11508          NOT A NATIONAL CAPITAL    800   \n",
       "12492       BETTER ASK FOR DIRECTIONS    200   \n",
       "15396                  STUPID ANSWERS    200   \n",
       "12032               CHERCHEZ LA FEMME   1000   \n",
       "18213                     SILLY SONGS    200   \n",
       "290    NOT A CURRENT NATIONAL CAPITAL   2000   \n",
       "284    NOT A CURRENT NATIONAL CAPITAL   1600   \n",
       "\n",
       "                                                Question  \\\n",
       "18566  the drew carey show the bob newhart show the b...   \n",
       "7591                      urban vii julius ii irving iii   \n",
       "18074              ramses ii nebuchadnezzar king solomon   \n",
       "11508                             katmandu kabul karachi   \n",
       "12492  of north south east or west the direction to t...   \n",
       "15396  florence nightingale was born in this italian ...   \n",
       "12032                   pd james pg wodehouse pj orourke   \n",
       "18213  of de do do do de da da da goo goo  nee nee na...   \n",
       "290               belize city guatemala city panama city   \n",
       "284                                  bucharest bonn bern   \n",
       "\n",
       "                                      Answer   Air Date  answer_in_questions  \n",
       "18566                   the bob newhart show 2006-04-06                  1.0  \n",
       "7591                              irving iii 2005-06-29                  1.0  \n",
       "18074  ramses ii king solomon nebuchadnezzar 1998-09-22                  1.0  \n",
       "11508                                karachi 2004-01-19                  1.0  \n",
       "12492                                  north 2004-07-12                  1.0  \n",
       "15396                               florence 2003-01-23                  1.0  \n",
       "12032                               pd james 2005-01-19                  1.0  \n",
       "18213                                goo goo 1997-01-15                  1.0  \n",
       "290                              belize city 2006-02-06                  1.0  \n",
       "284                                     bonn 2006-02-06                  1.0  "
      ]
     },
     "execution_count": 19,
     "metadata": {},
     "output_type": "execute_result"
    }
   ],
   "source": [
    "jeopardy.sort_values('answer_in_questions', ascending=False).head(10)"
   ]
  },
  {
   "cell_type": "markdown",
   "metadata": {},
   "source": [
    "We can see that the answers only occur in around 6% of the questions. This shows at that it is probably not a smart move to speculate finding the same words from the question in the correct answer."
   ]
  },
  {
   "cell_type": "markdown",
   "metadata": {},
   "source": [
    "Next, we want to answer our second question which is how often questions are recycled throughout the years. Even though are data set contains only about 10% of all Jeopardy questions, we should still be able to see if there is a pattern of recycling questions or not."
   ]
  },
  {
   "cell_type": "code",
   "execution_count": 20,
   "metadata": {
    "collapsed": false
   },
   "outputs": [
    {
     "data": {
      "text/plain": [
       "0.6876260592169802"
      ]
     },
     "execution_count": 20,
     "metadata": {},
     "output_type": "execute_result"
    }
   ],
   "source": [
    "question_overlap = []\n",
    "terms_used = set()\n",
    "jeopardy = jeopardy.sort_values(\"AirDate\")\n",
    "# Iterating over every row in jeopardy\n",
    "for i, row in jeopardy.iterrows():\n",
    "    split_question = row['Question'].split(\" \")\n",
    "    # Deleting all words that are shorter than 6 characters\n",
    "    split_question = [q for q in split_question if len(q) > 5]\n",
    "    match_count = 0\n",
    "    # Calculating the number of matching words\n",
    "    for w in split_question:\n",
    "        if w in terms_used:\n",
    "            match_count+=1\n",
    "    # Adding every word to the set terms_used\n",
    "    for w in split_question:\n",
    "        terms_used.add(w)\n",
    "    if len(split_question)>0:\n",
    "        match_count /= len(split_question)\n",
    "    question_overlap.append(match_count)\n",
    "\n",
    "\n",
    "# Adding the question_overlap list to the dataframe\n",
    "jeopardy['question_overlap'] = question_overlap\n",
    "# Calculating the number of overlaping words per question\n",
    "jeopardy['question_overlap'].mean()\n",
    "\n"
   ]
  },
  {
   "cell_type": "markdown",
   "metadata": {},
   "source": [
    "We can see that around 70% of all questions overlap in terms of new questions and old questions. Even though the dataset only has data from 2004 and later and we just compared single words, we can look deeper to see if there really is a schema when it comes to recycling questions."
   ]
  },
  {
   "cell_type": "markdown",
   "metadata": {},
   "source": [
    "Let's say we only want to analyze questions that have a high value of winning associated with them. In order to do so, we have to narrow down the questions into two categories:\n",
    "- Low value questions: Any row where the value is less than 800\n",
    "- High value questions: Any row where the value is greater than 800"
   ]
  },
  {
   "cell_type": "code",
   "execution_count": 21,
   "metadata": {
    "collapsed": true
   },
   "outputs": [],
   "source": [
    "# Function that categorizes values\n",
    "def value_category(row):\n",
    "    value = 1\n",
    "    if row['Value'] > 800:\n",
    "        return value\n",
    "    else:\n",
    "        value = 0\n",
    "        return value"
   ]
  },
  {
   "cell_type": "code",
   "execution_count": 22,
   "metadata": {
    "collapsed": false
   },
   "outputs": [],
   "source": [
    "# Applying the function to the dataset\n",
    "jeopardy['high_value'] = jeopardy.apply(value_category, axis=1)"
   ]
  },
  {
   "cell_type": "code",
   "execution_count": 28,
   "metadata": {
    "collapsed": false
   },
   "outputs": [
    {
     "data": {
      "text/html": [
       "<div>\n",
       "<style scoped>\n",
       "    .dataframe tbody tr th:only-of-type {\n",
       "        vertical-align: middle;\n",
       "    }\n",
       "\n",
       "    .dataframe tbody tr th {\n",
       "        vertical-align: top;\n",
       "    }\n",
       "\n",
       "    .dataframe thead th {\n",
       "        text-align: right;\n",
       "    }\n",
       "</style>\n",
       "<table border=\"1\" class=\"dataframe\">\n",
       "  <thead>\n",
       "    <tr style=\"text-align: right;\">\n",
       "      <th></th>\n",
       "      <th>ShowNumber</th>\n",
       "      <th>AirDate</th>\n",
       "      <th>Round</th>\n",
       "      <th>Category</th>\n",
       "      <th>Value</th>\n",
       "      <th>Question</th>\n",
       "      <th>Answer</th>\n",
       "      <th>Air Date</th>\n",
       "      <th>answer_in_questions</th>\n",
       "      <th>question_overlap</th>\n",
       "      <th>high_value</th>\n",
       "    </tr>\n",
       "  </thead>\n",
       "  <tbody>\n",
       "    <tr>\n",
       "      <th>19325</th>\n",
       "      <td>10</td>\n",
       "      <td>1984-09-21</td>\n",
       "      <td>Final Jeopardy!</td>\n",
       "      <td>U.S. PRESIDENTS</td>\n",
       "      <td>0</td>\n",
       "      <td>adventurous 26th president he was 1st to ride ...</td>\n",
       "      <td>theodore roosevelt</td>\n",
       "      <td>1984-09-21</td>\n",
       "      <td>0.0</td>\n",
       "      <td>0.0</td>\n",
       "      <td>0</td>\n",
       "    </tr>\n",
       "    <tr>\n",
       "      <th>19301</th>\n",
       "      <td>10</td>\n",
       "      <td>1984-09-21</td>\n",
       "      <td>Double Jeopardy!</td>\n",
       "      <td>LABOR UNIONS</td>\n",
       "      <td>200</td>\n",
       "      <td>notorious labor leader missing since 75</td>\n",
       "      <td>jimmy hoffa</td>\n",
       "      <td>1984-09-21</td>\n",
       "      <td>0.0</td>\n",
       "      <td>0.0</td>\n",
       "      <td>0</td>\n",
       "    </tr>\n",
       "    <tr>\n",
       "      <th>19302</th>\n",
       "      <td>10</td>\n",
       "      <td>1984-09-21</td>\n",
       "      <td>Double Jeopardy!</td>\n",
       "      <td>1789</td>\n",
       "      <td>200</td>\n",
       "      <td>washington proclaimed nov 26 1789 this first n...</td>\n",
       "      <td>thanksgiving</td>\n",
       "      <td>1984-09-21</td>\n",
       "      <td>0.0</td>\n",
       "      <td>0.0</td>\n",
       "      <td>0</td>\n",
       "    </tr>\n",
       "    <tr>\n",
       "      <th>19303</th>\n",
       "      <td>10</td>\n",
       "      <td>1984-09-21</td>\n",
       "      <td>Double Jeopardy!</td>\n",
       "      <td>TOURIST TRAPS</td>\n",
       "      <td>200</td>\n",
       "      <td>both ferde grofe  the colorado river dug this ...</td>\n",
       "      <td>the grand canyon</td>\n",
       "      <td>1984-09-21</td>\n",
       "      <td>0.0</td>\n",
       "      <td>0.5</td>\n",
       "      <td>0</td>\n",
       "    </tr>\n",
       "    <tr>\n",
       "      <th>19304</th>\n",
       "      <td>10</td>\n",
       "      <td>1984-09-21</td>\n",
       "      <td>Double Jeopardy!</td>\n",
       "      <td>LITERATURE</td>\n",
       "      <td>200</td>\n",
       "      <td>depending on the book he could be a jones a sa...</td>\n",
       "      <td>tom</td>\n",
       "      <td>1984-09-21</td>\n",
       "      <td>0.0</td>\n",
       "      <td>0.0</td>\n",
       "      <td>0</td>\n",
       "    </tr>\n",
       "  </tbody>\n",
       "</table>\n",
       "</div>"
      ],
      "text/plain": [
       "       ShowNumber     AirDate             Round         Category  Value  \\\n",
       "19325          10  1984-09-21   Final Jeopardy!  U.S. PRESIDENTS      0   \n",
       "19301          10  1984-09-21  Double Jeopardy!     LABOR UNIONS    200   \n",
       "19302          10  1984-09-21  Double Jeopardy!             1789    200   \n",
       "19303          10  1984-09-21  Double Jeopardy!    TOURIST TRAPS    200   \n",
       "19304          10  1984-09-21  Double Jeopardy!       LITERATURE    200   \n",
       "\n",
       "                                                Question              Answer  \\\n",
       "19325  adventurous 26th president he was 1st to ride ...  theodore roosevelt   \n",
       "19301            notorious labor leader missing since 75         jimmy hoffa   \n",
       "19302  washington proclaimed nov 26 1789 this first n...        thanksgiving   \n",
       "19303  both ferde grofe  the colorado river dug this ...    the grand canyon   \n",
       "19304  depending on the book he could be a jones a sa...                 tom   \n",
       "\n",
       "        Air Date  answer_in_questions  question_overlap  high_value  \n",
       "19325 1984-09-21                  0.0               0.0           0  \n",
       "19301 1984-09-21                  0.0               0.0           0  \n",
       "19302 1984-09-21                  0.0               0.0           0  \n",
       "19303 1984-09-21                  0.0               0.5           0  \n",
       "19304 1984-09-21                  0.0               0.0           0  "
      ]
     },
     "execution_count": 28,
     "metadata": {},
     "output_type": "execute_result"
    }
   ],
   "source": [
    "jeopardy.head()"
   ]
  },
  {
   "cell_type": "code",
   "execution_count": 24,
   "metadata": {
    "collapsed": true
   },
   "outputs": [],
   "source": [
    "# Function that takes in a word and returns the number of times it appears in higher value questions and lower value questions\n",
    "def count_usage(word):\n",
    "    low_count = 0\n",
    "    high_count = 0\n",
    "    for i, row in jeopardy.iterrows():\n",
    "        if word in row[\"Question\"].split(\" \"):\n",
    "            if row['high_value']==1:\n",
    "                high_count+=1\n",
    "            else:\n",
    "                low_count+=1\n",
    "    return high_count, low_count"
   ]
  },
  {
   "cell_type": "code",
   "execution_count": 25,
   "metadata": {
    "collapsed": false
   },
   "outputs": [],
   "source": [
    "# Converting the terms_used set into a list (only the first 5 elements)\n",
    "comparison_terms = list(terms_used)[:5]\n",
    "comparison_terms\n",
    "\n",
    "observed_expected = []"
   ]
  },
  {
   "cell_type": "code",
   "execution_count": 26,
   "metadata": {
    "collapsed": true
   },
   "outputs": [],
   "source": [
    "# Applying the count_usage function on the 5 elements of the comparison_terms list\n",
    "for word in comparison_terms:\n",
    "    observed_expected.append(count_usage(word))"
   ]
  },
  {
   "cell_type": "code",
   "execution_count": 27,
   "metadata": {
    "collapsed": false
   },
   "outputs": [
    {
     "data": {
      "text/plain": [
       "[(0, 1), (0, 1), (0, 2), (1, 0), (5, 10)]"
      ]
     },
     "execution_count": 27,
     "metadata": {},
     "output_type": "execute_result"
    }
   ],
   "source": [
    "observed_expected"
   ]
  },
  {
   "cell_type": "markdown",
   "metadata": {
    "collapsed": true
   },
   "source": [
    "## Applying the chi-squared test"
   ]
  },
  {
   "cell_type": "markdown",
   "metadata": {},
   "source": [
    "Now that we found the observed counts for a few terms, we can compute the expected counts and the chi-squared value."
   ]
  },
  {
   "cell_type": "code",
   "execution_count": 31,
   "metadata": {
    "collapsed": false
   },
   "outputs": [
    {
     "data": {
      "text/plain": [
       "[Power_divergenceResult(statistic=0.401962846126884, pvalue=0.5260772985705469),\n",
       " Power_divergenceResult(statistic=0.401962846126884, pvalue=0.5260772985705469),\n",
       " Power_divergenceResult(statistic=0.803925692253768, pvalue=0.3699222378079571),\n",
       " Power_divergenceResult(statistic=2.487792117195675, pvalue=0.11473257634454047),\n",
       " Power_divergenceResult(statistic=0.15940583617201806, pvalue=0.6897041389348488)]"
      ]
     },
     "execution_count": 31,
     "metadata": {},
     "output_type": "execute_result"
    }
   ],
   "source": [
    "# Finding the number of rows where high_value == 1 and == 0\n",
    "high_value_count = jeopardy[jeopardy['high_value']==1].shape[0]\n",
    "low_value_count = jeopardy[jeopardy['high_value']==0].shape[0]\n",
    "\n",
    "# Importing chisquare\n",
    "from scipy.stats import chisquare\n",
    "import numpy as np\n",
    "\n",
    "chi_squared = []\n",
    "\n",
    "# Using the observed_expected list to compute the chi-square value\n",
    "for obs in observed_expected:\n",
    "    # Total of each list\n",
    "    total = sum(obs)\n",
    "    total_prop = total / jeopardy.shape[0]\n",
    "    high_value_exp = total_prop * high_value_count\n",
    "    low_value_exp = total_prop * low_value_count\n",
    "    \n",
    "    # Using chisquare to calculate the chi-square values\n",
    "    observed = np.array([obs[0], obs[1]])\n",
    "    expected = np.array([high_value_exp, low_value_exp])\n",
    "    chi_squared.append(chisquare(observed, expected))\n",
    "\n",
    "chi_squared"
   ]
  },
  {
   "cell_type": "markdown",
   "metadata": {},
   "source": [
    "None of the words had a statistically significant p-value. One of the reasons could be the relatively small datasets that leads to smaller amounts of word occurences. With our chi-squared calculations we can not find a statistically significance between low value and high value questions."
   ]
  },
  {
   "cell_type": "markdown",
   "metadata": {},
   "source": [
    "## Conclusion\n",
    "In this project we analyzed a dataset about jeopardy questions. Using the "
   ]
  }
 ],
 "metadata": {
  "kernelspec": {
   "display_name": "Python 3",
   "language": "python",
   "name": "python3"
  },
  "language_info": {
   "codemirror_mode": {
    "name": "ipython",
    "version": 3
   },
   "file_extension": ".py",
   "mimetype": "text/x-python",
   "name": "python",
   "nbconvert_exporter": "python",
   "pygments_lexer": "ipython3",
   "version": "3.4.3"
  }
 },
 "nbformat": 4,
 "nbformat_minor": 0
}
